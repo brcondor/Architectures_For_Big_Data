{
 "cells": [
  {
   "cell_type": "code",
   "execution_count": 1,
   "metadata": {},
   "outputs": [],
   "source": [
    "#remember to clone https://github.com/brcondor/Architectures_for_Big_Data into '/home/jovyan/work/'\n",
    "import sys\n",
    "sys.path.append(\"/home/jovyan/work/Architectures_for_Big_Data/\")\n",
    "import pyspark\n",
    "sc = pyspark.SparkContext(\"local[3]\")"
   ]
  },
  {
   "cell_type": "code",
   "execution_count": 4,
   "metadata": {},
   "outputs": [
    {
     "data": {
      "text/plain": [
       "{'bookId': 'book_0065', 'tokenId': 'token_00482'}"
      ]
     },
     "execution_count": 4,
     "metadata": {},
     "output_type": "execute_result"
    }
   ],
   "source": [
    "from dataGenerator.rowGenerator import *\n",
    "from dataGenerator.datasetGenerator import *\n",
    "from datetime import datetime\n",
    "\n",
    "dataset = datasetGenerator()\n",
    "dataset.addGenerator(idGenerator(),prefix=\"book\",min=1,max=100,keyName=\"bookId\")\n",
    "dataset.addGenerator(idGenerator(),prefix=\"token\",min=1,max=5000,keyName=\"tokenId\")\n",
    "\n",
    "bookTokens = sc.parallelize( dataset.generateDataset(250000)).persist()\n",
    "bookTokens.first()"
   ]
  },
  {
   "cell_type": "markdown",
   "metadata": {},
   "source": [
    "# Black Belt Histogram"
   ]
  },
  {
   "cell_type": "code",
   "execution_count": 3,
   "metadata": {},
   "outputs": [
    {
     "data": {
      "text/plain": [
       "196871"
      ]
     },
     "execution_count": 3,
     "metadata": {},
     "output_type": "execute_result"
    }
   ],
   "source": [
    "## Compute the term frequency for each token w.r.t. each book\n",
    "bookTermFrequency = bookTokens.map(lambda x: ((x.get(\"bookId\"),x.get(\"tokenId\")),1)).reduceByKey(lambda x,y: x+y)\\\n",
    "                    .map(lambda x: {\"bookId\":x[0][0],\"tokenId\":x[0][1], \"termFrequency\":x[1]} ).persist()\n",
    "bookTermFrequency.count()"
   ]
  },
  {
   "cell_type": "code",
   "execution_count": 4,
   "metadata": {},
   "outputs": [
    {
     "data": {
      "text/plain": [
       "[(7, 1), (6, 5), (5, 83), (4, 778), (3, 6221), (2, 37990), (1, 151793)]"
      ]
     },
     "execution_count": 4,
     "metadata": {},
     "output_type": "execute_result"
    }
   ],
   "source": [
    "## Compute the hist for token frequencies\n",
    "bookTermFrequency.map(lambda x: (x.get(\"termFrequency\"),1)).reduceByKey(lambda x,y: x+y).top(15,key=lambda x: 1/x[1])"
   ]
  },
  {
   "cell_type": "markdown",
   "metadata": {},
   "source": [
    "# TF-IDF \n",
    "## Reading from a CDC Master table"
   ]
  },
  {
   "cell_type": "code",
   "execution_count": 5,
   "metadata": {},
   "outputs": [
    {
     "data": {
      "text/plain": [
       "{'bookId': 'book_0002',\n",
       " 'tokenId': 'token_0295',\n",
       " 'termFrequency': 699,\n",
       " 'insertDate': datetime.datetime(2017, 6, 1, 10, 25, 31)}"
      ]
     },
     "execution_count": 5,
     "metadata": {},
     "output_type": "execute_result"
    }
   ],
   "source": [
    "from dataGenerator.rowGenerator import *\n",
    "from dataGenerator.datasetGenerator import *\n",
    "from datetime import datetime\n",
    "\n",
    "dataset = datasetGenerator()\n",
    "dataset.addGenerator(idGenerator(),prefix=\"book\",min=1,max=100,keyName=\"bookId\")\n",
    "dataset.addGenerator(idGenerator(),prefix=\"token\",min=1,max=500,keyName=\"tokenId\")\n",
    "dataset.addGenerator(intGenerator(),min=1,max=1000,keyName=\"termFrequency\")\n",
    "dataset.addGenerator(dateGenerator(),startdate=datetime(2018,1,1),max=datetime(2020,1,1),keyName=\"insertDate\")\n",
    "\n",
    "\n",
    "bookTermFrequencyUniform = sc.parallelize( dataset.generateDataset(250000)).persist()\n",
    "bookTermFrequencyUniform.first()"
   ]
  },
  {
   "cell_type": "code",
   "execution_count": 7,
   "metadata": {},
   "outputs": [
    {
     "data": {
      "text/plain": [
       "{'bookId': 'book_0002',\n",
       " 'tokenId': 'token_0295',\n",
       " 'termFrequency': 900,\n",
       " 'insertDate': datetime.datetime(2017, 6, 1, 10, 25, 31)}"
      ]
     },
     "execution_count": 7,
     "metadata": {},
     "output_type": "execute_result"
    }
   ],
   "source": [
    "## add exponentiality ==> np.random.exponential()\n",
    "import numpy as np\n",
    "def exp(row):\n",
    "    row[\"termFrequency\"] = int(np.random.exponential() * row[\"termFrequency\"])\n",
    "    return row\n",
    "bookTermFrequency = bookTermFrequencyUniform.map(lambda x: exp(x))\n",
    "bookTermFrequency.first()"
   ]
  },
  {
   "cell_type": "markdown",
   "metadata": {},
   "source": [
    "### Extract Master Data Snapshot"
   ]
  },
  {
   "cell_type": "code",
   "execution_count": 39,
   "metadata": {},
   "outputs": [
    {
     "data": {
      "text/plain": [
       "(('book_0088', 'token_0283'),\n",
       " (datetime.datetime(2013, 7, 18, 0, 35, 54),\n",
       "  {'bookId': 'book_0088',\n",
       "   'tokenId': 'token_0283',\n",
       "   'termFrequency': 2,\n",
       "   'insertDate': datetime.datetime(2013, 7, 18, 0, 35, 54),\n",
       "   'oldTermFrequency': 60}))"
      ]
     },
     "execution_count": 39,
     "metadata": {},
     "output_type": "execute_result"
    }
   ],
   "source": [
    "## lets get the snapshot of bookTermFrequency (is a Master Data Registry)\n",
    "def getKeys(row):\n",
    "    pass \n",
    "def getTs(row):\n",
    "    pass\n",
    "    \n",
    "bookTermFrequencySnapshot_step0 = bookTermFrequency.map(\n",
    "bookTermFrequencySnapshot_step0.first()"
   ]
  },
  {
   "cell_type": "code",
   "execution_count": 9,
   "metadata": {},
   "outputs": [
    {
     "data": {
      "text/plain": [
       "(('book_0002', 'token_0295'),\n",
       " (datetime.datetime(2017, 6, 1, 10, 25, 31),\n",
       "  {'bookId': 'book_0002',\n",
       "   'tokenId': 'token_0295',\n",
       "   'termFrequency': 900,\n",
       "   'insertDate': datetime.datetime(2017, 6, 1, 10, 25, 31)}))"
      ]
     },
     "execution_count": 9,
     "metadata": {},
     "output_type": "execute_result"
    }
   ],
   "source": [
    "\n",
    "def getKeys(row):\n",
    "    return row[\"bookId\"], row[\"tokenId\"]\n",
    "def getTs(row):\n",
    "    return row[\"insertDate\"]\n",
    "    \n",
    "bookTermFrequencySnapshot_step0 = bookTermFrequency.map(lambda x: (getKeys(x), (getTs(x),x)))\n",
    "bookTermFrequencySnapshot_step0.first()"
   ]
  },
  {
   "cell_type": "code",
   "execution_count": 10,
   "metadata": {},
   "outputs": [
    {
     "data": {
      "text/plain": [
       "(('book_0002', 'token_0295'),\n",
       " (datetime.datetime(2019, 4, 10, 13, 58, 29),\n",
       "  {'bookId': 'book_0002',\n",
       "   'tokenId': 'token_0295',\n",
       "   'termFrequency': 6,\n",
       "   'insertDate': datetime.datetime(2019, 4, 10, 13, 58, 29)}))"
      ]
     },
     "execution_count": 10,
     "metadata": {},
     "output_type": "execute_result"
    }
   ],
   "source": [
    "# take only the last value\n",
    "bookTermFrequencySnapshot_step1 = bookTermFrequencySnapshot_step0.reduceByKey(lambda x,y: x if x[0]>y[0] else y)\n",
    "bookTermFrequencySnapshot_step1.first()"
   ]
  },
  {
   "cell_type": "code",
   "execution_count": 11,
   "metadata": {},
   "outputs": [
    {
     "data": {
      "text/plain": [
       "49644"
      ]
     },
     "execution_count": 11,
     "metadata": {},
     "output_type": "execute_result"
    }
   ],
   "source": [
    "# come back to the dict per row format\n",
    "bookTermFrequencySnapshot = bookTermFrequencySnapshot_step1.map(lambda x: x[1][1])\n",
    "bookTermFrequencySnapshot.count()"
   ]
  },
  {
   "cell_type": "code",
   "execution_count": 12,
   "metadata": {},
   "outputs": [
    {
     "data": {
      "text/plain": [
       "{'bookId': 'book_0002',\n",
       " 'tokenId': 'token_0295',\n",
       " 'termFrequency': 6,\n",
       " 'insertDate': datetime.datetime(2019, 4, 10, 13, 58, 29)}"
      ]
     },
     "execution_count": 12,
     "metadata": {},
     "output_type": "execute_result"
    }
   ],
   "source": [
    "bookTermFrequencySnapshot.first()"
   ]
  },
  {
   "cell_type": "markdown",
   "metadata": {},
   "source": [
    "## inverseDocumentFrequency (iDF)"
   ]
  },
  {
   "cell_type": "code",
   "execution_count": 14,
   "metadata": {},
   "outputs": [
    {
     "data": {
      "text/plain": [
       "[('token_0295', 100),\n",
       " ('token_0446', 99),\n",
       " ('token_0261', 98),\n",
       " ('token_0500', 100),\n",
       " ('token_0365', 100)]"
      ]
     },
     "execution_count": 14,
     "metadata": {},
     "output_type": "execute_result"
    }
   ],
   "source": [
    "## compute iDF - start with distribution of tokens\n",
    "iDF = bookTermFrequencySnapshot.map(lambda x: (x.get(\"tokenId\"),1)).reduceByKey(lambda x,y: x+y)\n",
    "iDF.take(5)"
   ]
  },
  {
   "cell_type": "code",
   "execution_count": 43,
   "metadata": {},
   "outputs": [
    {
     "data": {
      "text/plain": [
       "[('token_0333', 98),\n",
       " ('token_0442', 100),\n",
       " ('token_0229', 98),\n",
       " ('token_0135', 98),\n",
       " ('token_0419', 100)]"
      ]
     },
     "execution_count": 43,
     "metadata": {},
     "output_type": "execute_result"
    }
   ],
   "source": [
    "iDF.take(5)\n",
    "# iDF(term1) = log(N_tot/N_with_term1)..."
   ]
  },
  {
   "cell_type": "code",
   "execution_count": 18,
   "metadata": {},
   "outputs": [
    {
     "data": {
      "text/plain": [
       "[('token_0295', 0.0),\n",
       " ('token_0446', -0.01005033585350145),\n",
       " ('token_0261', -0.020202707317519466),\n",
       " ('token_0500', 0.0),\n",
       " ('token_0365', 0.0)]"
      ]
     },
     "execution_count": 18,
     "metadata": {},
     "output_type": "execute_result"
    }
   ],
   "source": [
    "# compute iDF (again)\n",
    "import numpy as np\n",
    "totBooks = bookTermFrequencySnapshot.map(lambda x: x.get(\"bookId\")).distinct().count() \n",
    "iDF = bookTermFrequencySnapshot.map(lambda x: (x.get(\"tokenId\"),1)).reduceByKey(lambda x,y: x+y)\\\n",
    "                .map(lambda x: (x[0],np.log(x[1]/totBooks)))\n",
    "iDF.take(5)"
   ]
  },
  {
   "cell_type": "markdown",
   "metadata": {},
   "source": [
    "# Exercise (1) - solo and small teams\n",
    "The actual dataset generator always generate data from a random distribution.\n",
    "\n",
    "e.g., id generator returns \n",
    "```python\n",
    "return prefix+\"_\"+str(randint(min, max)).zfill(len(str(max))+1)\n",
    "```\n",
    "\n",
    "If we would like to use it in these exercises, we would need to create stronger id generator where the sampling strategy could be changed. Provide an implementation of \n",
    "```python\n",
    "class nonUniformeIdGenerator(typeGenerator)\n",
    "class expIntGenerator(typeGenerator)\n",
    "class expFloatGenerator(typeGenerator)\n",
    "```\n",
    "\n",
    "# Exercise (2) - additional (mandatory for Big Team)\n",
    "Extend datasetGenerator() \n",
    "```python\n",
    "class logDataset(datasetGenerator)\n",
    "class registryDataset(typeGenerator)\n",
    "class cdcRegistryDataset(typeGenerator)\n",
    "```"
   ]
  },
  {
   "cell_type": "code",
   "execution_count": 23,
   "metadata": {},
   "outputs": [
    {
     "data": {
      "text/plain": [
       "{'bookId': 'book_0002',\n",
       " 'tokenId': 'token_0295',\n",
       " 'termFrequency': 55,\n",
       " 'insertDate': datetime.datetime(2017, 6, 1, 10, 25, 31),\n",
       " 'iDF': 0.0,\n",
       " 'TF-iDF': 0.0}"
      ]
     },
     "execution_count": 23,
     "metadata": {},
     "output_type": "execute_result"
    }
   ],
   "source": [
    "## combine bookTermFrequency with iDF to obtain \n",
    "## {'bookId': 'book_0097', 'tokenId': 'token_0359', 'termFrequency': 576,\"iDF\":0.12, \"TF-iDF\":576*0.12}\n",
    "def parser(x):\n",
    "    x[1][0][\"iDF\"] = x[1][1]\n",
    "    x[1][0][\"TF-iDF\"] = x[1][1]*x[1][0].get(\"termFrequency\")\n",
    "    return x[1][0]\n",
    "\n",
    "bookTFiDF = bookTermFrequency.map(lambda x: (x.get(\"tokenId\"),x)).join(iDF).map(lambda x: parser(x))\n",
    "bookTFiDF.first()"
   ]
  },
  {
   "cell_type": "code",
   "execution_count": 24,
   "metadata": {},
   "outputs": [
    {
     "data": {
      "text/plain": [
       "(count: 250000, mean: -3.586772870725633, stdev: 8.19504185972357, max: 0.0, min: -218.3710633950679)"
      ]
     },
     "execution_count": 24,
     "metadata": {},
     "output_type": "execute_result"
    }
   ],
   "source": [
    "bookTFiDF.map(lambda x: x.get(\"TF-iDF\")).stats()"
   ]
  },
  {
   "cell_type": "markdown",
   "metadata": {},
   "source": [
    "# Book Similarity"
   ]
  },
  {
   "cell_type": "code",
   "execution_count": 65,
   "metadata": {},
   "outputs": [
    {
     "data": {
      "text/plain": [
       "{'bookId': 'book_0093',\n",
       " 'tokenId': 'token_0333',\n",
       " 'termFrequency': 1000,\n",
       " 'insertDate': datetime.datetime(2016, 9, 24, 14, 59, 58),\n",
       " 'oldTermFrequency': 552,\n",
       " 'iDF': 0.02020270731751947,\n",
       " 'TF-iDF': 20.20270731751947}"
      ]
     },
     "execution_count": 65,
     "metadata": {},
     "output_type": "execute_result"
    }
   ],
   "source": [
    "bookTFiDF.first()"
   ]
  },
  {
   "cell_type": "markdown",
   "metadata": {},
   "source": [
    "```python\n",
    "sim(bookA,bookB) = sum(bookA_token_i * bookB_token_i)/(norm(bookA)*norm(bookA))\n",
    "```"
   ]
  },
  {
   "cell_type": "code",
   "execution_count": 66,
   "metadata": {},
   "outputs": [
    {
     "data": {
      "text/plain": [
       "('token_0333',\n",
       " ({'bookId': 'book_0093',\n",
       "   'tokenId': 'token_0333',\n",
       "   'termFrequency': 1000,\n",
       "   'insertDate': datetime.datetime(2016, 9, 24, 14, 59, 58),\n",
       "   'oldTermFrequency': 552,\n",
       "   'iDF': 0.02020270731751947,\n",
       "   'TF-iDF': 20.20270731751947},\n",
       "  {'bookId': 'book_0093',\n",
       "   'tokenId': 'token_0333',\n",
       "   'termFrequency': 1000,\n",
       "   'insertDate': datetime.datetime(2016, 9, 24, 14, 59, 58),\n",
       "   'oldTermFrequency': 552,\n",
       "   'iDF': 0.02020270731751947,\n",
       "   'TF-iDF': 20.20270731751947}))"
      ]
     },
     "execution_count": 66,
     "metadata": {},
     "output_type": "execute_result"
    }
   ],
   "source": [
    "bookA_bookB_contributions = bookTFiDF.map(...\n",
    "bookA_bookB_contributions.first()"
   ]
  },
  {
   "cell_type": "code",
   "execution_count": 67,
   "metadata": {},
   "outputs": [
    {
     "data": {
      "text/plain": [
       "('token_0333',\n",
       " ({'bookId': 'book_0093',\n",
       "   'tokenId': 'token_0333',\n",
       "   'termFrequency': 1000,\n",
       "   'insertDate': datetime.datetime(2016, 9, 24, 14, 59, 58),\n",
       "   'oldTermFrequency': 552,\n",
       "   'iDF': 0.02020270731751947,\n",
       "   'TF-iDF': 20.20270731751947},\n",
       "  {'bookId': 'book_0055',\n",
       "   'tokenId': 'token_0333',\n",
       "   'termFrequency': 843,\n",
       "   'insertDate': datetime.datetime(2015, 4, 28, 2, 49, 56),\n",
       "   'oldTermFrequency': 223,\n",
       "   'iDF': 0.02020270731751947,\n",
       "   'TF-iDF': 17.03088226866891}))"
      ]
     },
     "execution_count": 67,
     "metadata": {},
     "output_type": "execute_result"
    }
   ],
   "source": [
    "# lets make a triangular matrix\n",
    "bookA_bookB_contrTriang = bookA_bookB_contributions...\n",
    "bookA_bookB_contrTriang.first()"
   ]
  },
  {
   "cell_type": "code",
   "execution_count": 74,
   "metadata": {},
   "outputs": [
    {
     "data": {
      "text/plain": [
       "(('book_0093', 'book_0055'), 344.06992983304997)"
      ]
     },
     "execution_count": 74,
     "metadata": {},
     "output_type": "execute_result"
    }
   ],
   "source": [
    "# now we need to build the line to apply the sum \n",
    "eachTokenContr = bookA_bookB_contrTriang.map(...\n",
    "                \n",
    "eachTokenContr.first()"
   ]
  },
  {
   "cell_type": "code",
   "execution_count": 75,
   "metadata": {},
   "outputs": [
    {
     "data": {
      "text/plain": [
       "[(('book_0093', 'book_0040'), 490589.8779948853),\n",
       " (('book_0093', 'book_0052'), 394761.6625497298),\n",
       " (('book_0055', 'book_0025'), 376350.4987694563),\n",
       " (('book_0055', 'book_0009'), 366855.5669745611),\n",
       " (('book_0055', 'book_0027'), 397924.2586771737)]"
      ]
     },
     "execution_count": 75,
     "metadata": {},
     "output_type": "execute_result"
    }
   ],
   "source": [
    "bookToBookSimilarity = eachTokenContr...\n",
    "bookToBookSimilarity.take(5)"
   ]
  },
  {
   "cell_type": "code",
   "execution_count": 79,
   "metadata": {},
   "outputs": [
    {
     "data": {
      "text/plain": [
       "[('book_0018',\n",
       "  [(308422.42330327886, 'book_0015'),\n",
       "   (333297.3672153354, 'book_0013'),\n",
       "   (338483.7670688783, 'book_0016'),\n",
       "   (342978.31636367145, 'book_0008'),\n",
       "   (353904.65181296325, 'book_0007')]),\n",
       " ('book_0053',\n",
       "  [(271124.8324598133, 'book_0016'),\n",
       "   (280498.2250452823, 'book_0013'),\n",
       "   (283393.5724598963, 'book_0012'),\n",
       "   (283597.4902153876, 'book_0039'),\n",
       "   (284306.2925381678, 'book_0044')]),\n",
       " ('book_0082',\n",
       "  [(253262.12105578918, 'book_0039'),\n",
       "   (264230.7942164881, 'book_0013'),\n",
       "   (267181.32763212104, 'book_0075'),\n",
       "   (275957.7782837865, 'book_0024'),\n",
       "   (278301.92212257243, 'book_0050')]),\n",
       " ('book_0071',\n",
       "  [(273745.62675940956, 'book_0007'),\n",
       "   (275134.91709174804, 'book_0013'),\n",
       "   (281544.6283921305, 'book_0008'),\n",
       "   (288046.5346574101, 'book_0015'),\n",
       "   (291442.57781192847, 'book_0026')]),\n",
       " ('book_0016',\n",
       "  [(255996.59628928234, 'book_0015'),\n",
       "   (265398.08730256563, 'book_0008'),\n",
       "   (268749.9762100572, 'book_0013'),\n",
       "   (284225.9609940841, 'book_0007'),\n",
       "   (294623.36953003454, 'book_0006')])]"
      ]
     },
     "execution_count": 79,
     "metadata": {},
     "output_type": "execute_result"
    }
   ],
   "source": [
    "#extract for each book to 5 closer books\n",
    "bookToBookSimilarity.map(lambda x: ..."
   ]
  },
  {
   "cell_type": "markdown",
   "metadata": {},
   "source": [
    "# Exercise 2\n",
    "In the previous example, we computed only the book_A_i*book_B_i... we missed the part below..."
   ]
  }
 ],
 "metadata": {
  "kernelspec": {
   "display_name": "Python 3",
   "language": "python",
   "name": "python3"
  },
  "language_info": {
   "codemirror_mode": {
    "name": "ipython",
    "version": 3
   },
   "file_extension": ".py",
   "mimetype": "text/x-python",
   "name": "python",
   "nbconvert_exporter": "python",
   "pygments_lexer": "ipython3",
   "version": "3.8.6"
  }
 },
 "nbformat": 4,
 "nbformat_minor": 4
}
