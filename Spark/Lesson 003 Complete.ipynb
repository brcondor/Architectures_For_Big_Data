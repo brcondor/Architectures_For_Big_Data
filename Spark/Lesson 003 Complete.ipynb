{
 "cells": [
  {
   "cell_type": "code",
   "execution_count": 1,
   "metadata": {},
   "outputs": [],
   "source": [
    "#remember to clone https://github.com/brcondor/Architectures_for_Big_Data into '/home/jovyan/work/'\n",
    "import sys\n",
    "sys.path.append(\"/home/jovyan/work/Architectures_for_Big_Data/\")\n",
    "import pyspark\n",
    "sc = pyspark.SparkContext(\"local[3]\")"
   ]
  },
  {
   "cell_type": "code",
   "execution_count": 2,
   "metadata": {},
   "outputs": [
    {
     "data": {
      "text/plain": [
       "{'bookId': 'book_0013', 'tokenId': 'token_01928'}"
      ]
     },
     "execution_count": 2,
     "metadata": {},
     "output_type": "execute_result"
    }
   ],
   "source": [
    "from dataGenerator.rowGenerator import *\n",
    "from dataGenerator.datasetGenerator import *\n",
    "from datetime import datetime\n",
    "\n",
    "dataset = datasetGenerator()\n",
    "dataset.addGenerator(idGenerator(),prefix=\"book\",min=1,max=100,keyName=\"bookId\")\n",
    "dataset.addGenerator(idGenerator(),prefix=\"token\",min=1,max=5000,keyName=\"tokenId\")\n",
    "\n",
    "bookTokens = sc.parallelize( dataset.generateDataset(250000)).persist()\n",
    "bookTokens.first()"
   ]
  },
  {
   "cell_type": "markdown",
   "metadata": {},
   "source": [
    "# Black Belt Histogram"
   ]
  },
  {
   "cell_type": "code",
   "execution_count": 3,
   "metadata": {},
   "outputs": [
    {
     "data": {
      "text/plain": [
       "196871"
      ]
     },
     "execution_count": 3,
     "metadata": {},
     "output_type": "execute_result"
    }
   ],
   "source": [
    "## Compute the term frequency for each token w.r.t. each book\n",
    "bookTermFrequency = bookTokens.map(lambda x: ((x.get(\"bookId\"),x.get(\"tokenId\")),1)).reduceByKey(lambda x,y: x+y)\\\n",
    "                    .map(lambda x: {\"bookId\":x[0][0],\"tokenId\":x[0][1], \"termFrequency\":x[1]} ).persist()\n",
    "bookTermFrequency.count()"
   ]
  },
  {
   "cell_type": "code",
   "execution_count": 4,
   "metadata": {},
   "outputs": [
    {
     "data": {
      "text/plain": [
       "[(7, 1), (6, 5), (5, 83), (4, 778), (3, 6221), (2, 37990), (1, 151793)]"
      ]
     },
     "execution_count": 4,
     "metadata": {},
     "output_type": "execute_result"
    }
   ],
   "source": [
    "## Compute the hist for token frequencies\n",
    "bookTermFrequency.map(lambda x: (x.get(\"termFrequency\"),1)).reduceByKey(lambda x,y: x+y).top(15,key=lambda x: 1/x[1])"
   ]
  },
  {
   "cell_type": "markdown",
   "metadata": {},
   "source": [
    "# TF-IDF \n",
    "## Reading from a CDC Master table"
   ]
  },
  {
   "cell_type": "code",
   "execution_count": 37,
   "metadata": {},
   "outputs": [
    {
     "data": {
      "text/plain": [
       "{'bookId': 'book_0088',\n",
       " 'tokenId': 'token_0283',\n",
       " 'termFrequency': 60,\n",
       " 'insertDate': datetime.datetime(2013, 7, 18, 0, 35, 54)}"
      ]
     },
     "execution_count": 37,
     "metadata": {},
     "output_type": "execute_result"
    }
   ],
   "source": [
    "from dataGenerator.rowGenerator import *\n",
    "from dataGenerator.datasetGenerator import *\n",
    "from datetime import datetime\n",
    "\n",
    "dataset = datasetGenerator()\n",
    "dataset.addGenerator(idGenerator(),prefix=\"book\",min=1,max=100,keyName=\"bookId\")\n",
    "dataset.addGenerator(idGenerator(),prefix=\"token\",min=1,max=500,keyName=\"tokenId\")\n",
    "dataset.addGenerator(intGenerator(),min=1,max=1000,keyName=\"termFrequency\")\n",
    "dataset.addGenerator(dateGenerator(),startdate=datetime(2018,1,1),max=datetime(2020,1,1),keyName=\"insertDate\")\n",
    "\n",
    "\n",
    "bookTermFrequencyUniform = sc.parallelize( dataset.generateDataset(250000)).persist()\n",
    "bookTermFrequencyUniform.first()"
   ]
  },
  {
   "cell_type": "code",
   "execution_count": 38,
   "metadata": {},
   "outputs": [
    {
     "data": {
      "text/plain": [
       "{'bookId': 'book_0088',\n",
       " 'tokenId': 'token_0283',\n",
       " 'termFrequency': 2,\n",
       " 'insertDate': datetime.datetime(2013, 7, 18, 0, 35, 54),\n",
       " 'oldTermFrequency': 60}"
      ]
     },
     "execution_count": 38,
     "metadata": {},
     "output_type": "execute_result"
    }
   ],
   "source": [
    "## add exponentiality\n",
    "import numpy as np\n",
    "def exp(row):\n",
    "    row[\"oldTermFrequency\"]  =  row[\"termFrequency\"] \n",
    "    row[\"termFrequency\"] = int(np.random.exponential()* row[\"termFrequency\"])\n",
    "    return row\n",
    "    \n",
    "bookTermFrequency = bookTermFrequencyUniform.map(lambda x: exp(x)).persist()\n",
    "bookTermFrequency.first()"
   ]
  },
  {
   "cell_type": "markdown",
   "metadata": {},
   "source": [
    "### Extract Master Data Snapshot"
   ]
  },
  {
   "cell_type": "code",
   "execution_count": 39,
   "metadata": {},
   "outputs": [
    {
     "data": {
      "text/plain": [
       "(('book_0088', 'token_0283'),\n",
       " (datetime.datetime(2013, 7, 18, 0, 35, 54),\n",
       "  {'bookId': 'book_0088',\n",
       "   'tokenId': 'token_0283',\n",
       "   'termFrequency': 2,\n",
       "   'insertDate': datetime.datetime(2013, 7, 18, 0, 35, 54),\n",
       "   'oldTermFrequency': 60}))"
      ]
     },
     "execution_count": 39,
     "metadata": {},
     "output_type": "execute_result"
    }
   ],
   "source": [
    "## lets get the snapshot of bookTermFrequency (is a Master Data Registry)\n",
    "def getKeys(row):\n",
    "    return row.get(\"bookId\"),row.get(\"tokenId\")\n",
    "def getTs(row):\n",
    "    return row.get(\"insertDate\")\n",
    "    \n",
    "bookTermFrequencySnapshot_step0 = bookTermFrequency.map(lambda x: (getKeys(x),(getTs(x),x)))\n",
    "bookTermFrequencySnapshot_step0.first()"
   ]
  },
  {
   "cell_type": "code",
   "execution_count": 40,
   "metadata": {},
   "outputs": [
    {
     "data": {
      "text/plain": [
       "(('book_0093', 'token_0333'),\n",
       " (datetime.datetime(2018, 7, 18, 15, 34, 30),\n",
       "  {'bookId': 'book_0093',\n",
       "   'tokenId': 'token_0333',\n",
       "   'termFrequency': 11,\n",
       "   'insertDate': datetime.datetime(2018, 7, 18, 15, 34, 30),\n",
       "   'oldTermFrequency': 188}))"
      ]
     },
     "execution_count": 40,
     "metadata": {},
     "output_type": "execute_result"
    }
   ],
   "source": [
    "bookTermFrequencySnapshot_step1 = bookTermFrequencySnapshot_step0.reduceByKey(lambda x,y: x if x[0]>y[0] else y)\n",
    "bookTermFrequencySnapshot_step1.first()"
   ]
  },
  {
   "cell_type": "code",
   "execution_count": 41,
   "metadata": {},
   "outputs": [
    {
     "data": {
      "text/plain": [
       "49666"
      ]
     },
     "execution_count": 41,
     "metadata": {},
     "output_type": "execute_result"
    }
   ],
   "source": [
    "bookTermFrequencySnapshot = bookTermFrequencySnapshot_step1.map(lambda x: x[1][1]).persist()\n",
    "bookTermFrequencySnapshot.count()"
   ]
  },
  {
   "cell_type": "markdown",
   "metadata": {},
   "source": [
    "## inverseDocumentFrequency (iDF)"
   ]
  },
  {
   "cell_type": "code",
   "execution_count": 42,
   "metadata": {},
   "outputs": [
    {
     "data": {
      "text/plain": [
       "[('token_0333', 98),\n",
       " ('token_0442', 100),\n",
       " ('token_0229', 98),\n",
       " ('token_0135', 98),\n",
       " ('token_0419', 100)]"
      ]
     },
     "execution_count": 42,
     "metadata": {},
     "output_type": "execute_result"
    }
   ],
   "source": [
    "## compute iDF\n",
    "iDF = bookTermFrequencySnapshot.map(lambda x: (x.get(\"tokenId\"),1)).reduceByKey(lambda x,y: x+y).persist()\n",
    "iDF.take(5)"
   ]
  },
  {
   "cell_type": "code",
   "execution_count": 43,
   "metadata": {},
   "outputs": [
    {
     "data": {
      "text/plain": [
       "[('token_0333', 98),\n",
       " ('token_0442', 100),\n",
       " ('token_0229', 98),\n",
       " ('token_0135', 98),\n",
       " ('token_0419', 100)]"
      ]
     },
     "execution_count": 43,
     "metadata": {},
     "output_type": "execute_result"
    }
   ],
   "source": [
    "iDF.take(5)\n",
    "# iDF = log(N/N_t)"
   ]
  },
  {
   "cell_type": "code",
   "execution_count": 44,
   "metadata": {},
   "outputs": [
    {
     "data": {
      "text/plain": [
       "[('token_0333', 0.02020270731751947),\n",
       " ('token_0442', 0.0),\n",
       " ('token_0229', 0.02020270731751947),\n",
       " ('token_0135', 0.02020270731751947),\n",
       " ('token_0419', 0.0)]"
      ]
     },
     "execution_count": 44,
     "metadata": {},
     "output_type": "execute_result"
    }
   ],
   "source": [
    "# compute iDF (again)\n",
    "import numpy as np\n",
    "totBooks = bookTermFrequencySnapshot.map(lambda x: (x.get(\"bookId\"))).distinct().count()\n",
    "iDF = bookTermFrequencySnapshot.map(lambda x: (x.get(\"tokenId\"),1)).reduceByKey(lambda x,y: x+y)\\\n",
    "                                .map(lambda x:(x[0],np.log(totBooks/x[1]))).persist()\n",
    "iDF.take(5)"
   ]
  },
  {
   "cell_type": "markdown",
   "metadata": {},
   "source": [
    "# Exercise (1) - solo and small teams\n",
    "The actual dataset generator always generate data from a random distribution.\n",
    "\n",
    "e.g., id generator returns \n",
    "```python\n",
    "return prefix+\"_\"+str(randint(min, max)).zfill(len(str(max))+1)\n",
    "```\n",
    "\n",
    "If we would like to use it in these exercises, we would need to create stronger id generator where the sampling strategy could be changed. Provide an implementation of \n",
    "```python\n",
    "class nonUniformeIdGenerator(typeGenerator)\n",
    "class expIntGenerator(typeGenerator)\n",
    "class expFloatGenerator(typeGenerator)\n",
    "```\n",
    "\n",
    "# Exercise (2) - additional (mandatory for Big Team)\n",
    "Extend datasetGenerator() \n",
    "```python\n",
    "class logDataset(datasetGenerator)\n",
    "class registryDataset(typeGenerator)\n",
    "class cdcRegistryDataset(typeGenerator)\n",
    "```"
   ]
  },
  {
   "cell_type": "code",
   "execution_count": 63,
   "metadata": {},
   "outputs": [
    {
     "data": {
      "text/plain": [
       "{'bookId': 'book_0093',\n",
       " 'tokenId': 'token_0333',\n",
       " 'termFrequency': 1000,\n",
       " 'insertDate': datetime.datetime(2016, 9, 24, 14, 59, 58),\n",
       " 'oldTermFrequency': 552,\n",
       " 'iDF': 0.02020270731751947,\n",
       " 'TF-iDF': 20.20270731751947}"
      ]
     },
     "execution_count": 63,
     "metadata": {},
     "output_type": "execute_result"
    }
   ],
   "source": [
    "## combine bookTermFrequency with iDF to obtain \n",
    "## {'bookId': 'book_0097', 'tokenId': 'token_0359', 'termFrequency': 576,\"iDF\":0.12, \"TF-iDF\":576*0.12}\n",
    "def parser(x):\n",
    "    x[1][0][\"iDF\"] = x[1][1]\n",
    "    x[1][0][\"TF-iDF\"] = x[1][0][\"termFrequency\"]*x[1][1]\n",
    "    return x[1][0]\n",
    "\n",
    "bookTFiDF = bookTermFrequency.map(lambda x: (x.get(\"tokenId\"),x)).join(iDF).map(lambda x: parser(x))\n",
    "bookTFiDF.first()"
   ]
  },
  {
   "cell_type": "code",
   "execution_count": 64,
   "metadata": {},
   "outputs": [
    {
     "data": {
      "text/plain": [
       "(count: 250000, mean: 3.3292810066317293, stdev: 8.045016580100247, max: 207.90641809165973, min: 0.0)"
      ]
     },
     "execution_count": 64,
     "metadata": {},
     "output_type": "execute_result"
    }
   ],
   "source": [
    "bookTFiDF.map(lambda x: x.get(\"TF-iDF\")).stats()"
   ]
  },
  {
   "cell_type": "markdown",
   "metadata": {},
   "source": [
    "# Book Similarity"
   ]
  },
  {
   "cell_type": "code",
   "execution_count": 65,
   "metadata": {},
   "outputs": [
    {
     "data": {
      "text/plain": [
       "{'bookId': 'book_0093',\n",
       " 'tokenId': 'token_0333',\n",
       " 'termFrequency': 1000,\n",
       " 'insertDate': datetime.datetime(2016, 9, 24, 14, 59, 58),\n",
       " 'oldTermFrequency': 552,\n",
       " 'iDF': 0.02020270731751947,\n",
       " 'TF-iDF': 20.20270731751947}"
      ]
     },
     "execution_count": 65,
     "metadata": {},
     "output_type": "execute_result"
    }
   ],
   "source": [
    "bookTFiDF.first()"
   ]
  },
  {
   "cell_type": "markdown",
   "metadata": {},
   "source": [
    "```python\n",
    "sim(bookA,bookB) = sum(bookA_token_i * bookB_token_i)/(norm(bookA)*norm(bookA))\n",
    "```"
   ]
  },
  {
   "cell_type": "code",
   "execution_count": 66,
   "metadata": {},
   "outputs": [
    {
     "data": {
      "text/plain": [
       "('token_0333',\n",
       " ({'bookId': 'book_0093',\n",
       "   'tokenId': 'token_0333',\n",
       "   'termFrequency': 1000,\n",
       "   'insertDate': datetime.datetime(2016, 9, 24, 14, 59, 58),\n",
       "   'oldTermFrequency': 552,\n",
       "   'iDF': 0.02020270731751947,\n",
       "   'TF-iDF': 20.20270731751947},\n",
       "  {'bookId': 'book_0093',\n",
       "   'tokenId': 'token_0333',\n",
       "   'termFrequency': 1000,\n",
       "   'insertDate': datetime.datetime(2016, 9, 24, 14, 59, 58),\n",
       "   'oldTermFrequency': 552,\n",
       "   'iDF': 0.02020270731751947,\n",
       "   'TF-iDF': 20.20270731751947}))"
      ]
     },
     "execution_count": 66,
     "metadata": {},
     "output_type": "execute_result"
    }
   ],
   "source": [
    "bookA_bookB_contributions = bookTFiDF.map(lambda x: (x.get(\"tokenId\"),x)).join(bookTFiDF.map(lambda x: (x.get(\"tokenId\"),x)))\n",
    "bookA_bookB_contributions.first()"
   ]
  },
  {
   "cell_type": "code",
   "execution_count": 67,
   "metadata": {},
   "outputs": [
    {
     "data": {
      "text/plain": [
       "('token_0333',\n",
       " ({'bookId': 'book_0093',\n",
       "   'tokenId': 'token_0333',\n",
       "   'termFrequency': 1000,\n",
       "   'insertDate': datetime.datetime(2016, 9, 24, 14, 59, 58),\n",
       "   'oldTermFrequency': 552,\n",
       "   'iDF': 0.02020270731751947,\n",
       "   'TF-iDF': 20.20270731751947},\n",
       "  {'bookId': 'book_0055',\n",
       "   'tokenId': 'token_0333',\n",
       "   'termFrequency': 843,\n",
       "   'insertDate': datetime.datetime(2015, 4, 28, 2, 49, 56),\n",
       "   'oldTermFrequency': 223,\n",
       "   'iDF': 0.02020270731751947,\n",
       "   'TF-iDF': 17.03088226866891}))"
      ]
     },
     "execution_count": 67,
     "metadata": {},
     "output_type": "execute_result"
    }
   ],
   "source": [
    "# lets make a triangular matrix\n",
    "bookA_bookB_contrTriang = bookA_bookB_contributions.filter(lambda x: (x[1][0].get(\"bookId\")>x[1][1].get(\"bookId\")) )\n",
    "bookA_bookB_contrTriang.first()"
   ]
  },
  {
   "cell_type": "code",
   "execution_count": 74,
   "metadata": {},
   "outputs": [
    {
     "data": {
      "text/plain": [
       "(('book_0093', 'book_0055'), 344.06992983304997)"
      ]
     },
     "execution_count": 74,
     "metadata": {},
     "output_type": "execute_result"
    }
   ],
   "source": [
    "# now we need to build the line to apply the sum \n",
    "eachTokenContr = bookA_bookB_contrTriang.map(lambda x: (x[1]))\\\n",
    "                .map(lambda x: ((x[0].get(\"bookId\"),x[1].get(\"bookId\")),x[0].get(\"TF-iDF\")*x[1].get(\"TF-iDF\")) )\n",
    "eachTokenContr.first()"
   ]
  },
  {
   "cell_type": "code",
   "execution_count": 75,
   "metadata": {},
   "outputs": [
    {
     "data": {
      "text/plain": [
       "[(('book_0093', 'book_0040'), 490589.8779948853),\n",
       " (('book_0093', 'book_0052'), 394761.6625497298),\n",
       " (('book_0055', 'book_0025'), 376350.4987694563),\n",
       " (('book_0055', 'book_0009'), 366855.5669745611),\n",
       " (('book_0055', 'book_0027'), 397924.2586771737)]"
      ]
     },
     "execution_count": 75,
     "metadata": {},
     "output_type": "execute_result"
    }
   ],
   "source": [
    "bookToBookSimilarity = eachTokenContr.reduceByKey(lambda x,y: x+y)\n",
    "bookToBookSimilarity.take(5)"
   ]
  },
  {
   "cell_type": "code",
   "execution_count": 80,
   "metadata": {},
   "outputs": [
    {
     "data": {
      "text/plain": [
       "[('book_0018',\n",
       "  [(478090.16730927187, 'book_0001'),\n",
       "   (452870.694649205, 'book_0014'),\n",
       "   (410907.90912833787, 'book_0005'),\n",
       "   (407297.0970469734, 'book_0002'),\n",
       "   (404272.1360993062, 'book_0017')]),\n",
       " ('book_0053',\n",
       "  [(413900.020425716, 'book_0040'),\n",
       "   (408906.899518296, 'book_0001'),\n",
       "   (384913.35462971963, 'book_0004'),\n",
       "   (376800.3168083103, 'book_0019'),\n",
       "   (374543.0645824918, 'book_0047')]),\n",
       " ('book_0082',\n",
       "  [(380752.9970726997, 'book_0040'),\n",
       "   (376981.4355760529, 'book_0001'),\n",
       "   (367719.8962979362, 'book_0038'),\n",
       "   (367315.3053465798, 'book_0004'),\n",
       "   (364728.0030140588, 'book_0045')]),\n",
       " ('book_0071',\n",
       "  [(399861.93696522387, 'book_0047'),\n",
       "   (394469.3769090045, 'book_0002'),\n",
       "   (389053.1655425688, 'book_0018'),\n",
       "   (384981.52358427766, 'book_0010'),\n",
       "   (380516.32053608156, 'book_0044')]),\n",
       " ('book_0016',\n",
       "  [(381357.1081600139, 'book_0002'),\n",
       "   (362543.9564661828, 'book_0014'),\n",
       "   (339107.5043046193, 'book_0005'),\n",
       "   (337506.0343681572, 'book_0001'),\n",
       "   (329709.30267198593, 'book_0004')])]"
      ]
     },
     "execution_count": 80,
     "metadata": {},
     "output_type": "execute_result"
    }
   ],
   "source": [
    "#extract for each book to 5 closer books\n",
    "bookToBookSimilarity.map(lambda x: (x[0][0],[(x[1],x[0][1])])).reduceByKey(lambda x,y: sorted(x+y,reverse=True)[0:5]).take(5)"
   ]
  },
  {
   "cell_type": "markdown",
   "metadata": {},
   "source": [
    "# Exercise 2 (optional)\n",
    "In the previous example, we computed only the book_A_i*book_B_i... we missed the part below..."
   ]
  }
 ],
 "metadata": {
  "kernelspec": {
   "display_name": "Python 3",
   "language": "python",
   "name": "python3"
  },
  "language_info": {
   "codemirror_mode": {
    "name": "ipython",
    "version": 3
   },
   "file_extension": ".py",
   "mimetype": "text/x-python",
   "name": "python",
   "nbconvert_exporter": "python",
   "pygments_lexer": "ipython3",
   "version": "3.8.6"
  }
 },
 "nbformat": 4,
 "nbformat_minor": 4
}
